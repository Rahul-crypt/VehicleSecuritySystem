{
 "cells": [
  {
   "cell_type": "code",
   "execution_count": 1,
   "id": "82cb09d0",
   "metadata": {},
   "outputs": [],
   "source": [
    "from PIL import Image\n",
    "import os\n",
    "import re\n",
    "\n",
    "import matplotlib.pyplot as plt\n",
    "import numpy as np\n",
    "\n",
    "import pylab as pl\n",
    "from matplotlib import pyplot as plt\n",
    "from sklearn.model_selection import train_test_split\n",
    "from sklearn.model_selection import GridSearchCV\n",
    "from sklearn.metrics import classification_report\n",
    "from sklearn.decomposition import PCA\n",
    "from sklearn.svm import SVC\n",
    "\n",
    "from skimage.feature import hog"
   ]
  },
  {
   "cell_type": "code",
   "execution_count": 2,
   "id": "1e368841",
   "metadata": {},
   "outputs": [],
   "source": [
    "folder='DataSet/' # location of training images\n",
    "images = []\n",
    "i=0\n",
    "\n",
    "X=[]\n",
    "Y=[]\n",
    "\n",
    "for filename in os.listdir(folder):   # run the loop for all files in training folder\n",
    "    img = Image.open(os.path.join(folder,filename)) # open image \n",
    "\n",
    "    img=img.resize([32,64])  # resize image  to a fixed size\n",
    "    \n",
    "    fd,hog_image = hog(img, orientations=9, pixels_per_cell=(4,4), cells_per_block=(2, 2), visualize=True, multichannel=True) # obtain HOG features\n",
    "    \n",
    "    X.append(fd)\n",
    "\n",
    "    # obtain training labels from file name\n",
    "    \n",
    "    if re.match(\"Ross*\", filename):\n",
    "      Yt=0\n",
    "    elif re.match(\"Gunther*\", filename):\n",
    "      Yt=1\n",
    "    elif re.match(\"Joey*\", filename):\n",
    "      Yt=2\n",
    "    elif re.match(\"Rachel*\", filename):\n",
    "      Yt=3\n",
    "    else:\n",
    "      Yt=4\n",
    "\n",
    "    Y.append(Yt)\n",
    "    \n",
    "    i=i+1\n"
   ]
  },
  {
   "cell_type": "code",
   "execution_count": 3,
   "id": "716553ee",
   "metadata": {},
   "outputs": [
    {
     "data": {
      "text/plain": [
       "(3780,)"
      ]
     },
     "execution_count": 3,
     "metadata": {},
     "output_type": "execute_result"
    }
   ],
   "source": [
    "fd.shape"
   ]
  },
  {
   "cell_type": "code",
   "execution_count": null,
   "id": "54f79910",
   "metadata": {},
   "outputs": [],
   "source": []
  },
  {
   "cell_type": "code",
   "execution_count": 4,
   "id": "3f55cb95",
   "metadata": {},
   "outputs": [],
   "source": [
    "target_names=['RossGeller', 'Gunther', 'JoeyTribbiani', 'PhoebeBuffay']"
   ]
  },
  {
   "cell_type": "code",
   "execution_count": 5,
   "id": "ee397225",
   "metadata": {},
   "outputs": [],
   "source": [
    "X_train, X_test, y_train, y_test = train_test_split(X, Y, test_size=0.2, random_state=42)"
   ]
  },
  {
   "cell_type": "code",
   "execution_count": 6,
   "id": "db8218f9",
   "metadata": {},
   "outputs": [],
   "source": [
    "n_components = 16\n",
    "pca = PCA(n_components=n_components, whiten=True).fit(X_train)"
   ]
  },
  {
   "cell_type": "code",
   "execution_count": 7,
   "id": "0086025a",
   "metadata": {},
   "outputs": [],
   "source": [
    "# project training and test data to lower dimension \n",
    "X_train_pca = pca.transform(X_train)\n",
    "X_test_pca = pca.transform(X_test)"
   ]
  },
  {
   "cell_type": "code",
   "execution_count": 8,
   "id": "7efead1a",
   "metadata": {},
   "outputs": [],
   "source": [
    "# Save PCA coefficients for use at prediction\n",
    "\n",
    "import pickle as pk\n",
    "pk.dump(pca, open(\"PCA_Coefficient.pkl\",\"wb\"))"
   ]
  },
  {
   "cell_type": "code",
   "execution_count": 9,
   "id": "e4d43a59",
   "metadata": {},
   "outputs": [
    {
     "name": "stdout",
     "output_type": "stream",
     "text": [
      "Fitting the classifier to the training set\n",
      "Best estimator found by grid search:\n",
      "SVC(C=1000.0, class_weight='balanced', gamma=0.1, probability=True)\n"
     ]
    }
   ],
   "source": [
    "print(\"Fitting the classifier to the training set\")\n",
    "param_grid = {\n",
    "         'C': [1e3, 5e3, 1e4, 5e4, 1e5],\n",
    "     \n",
    "          \n",
    "    'gamma': [0.0001, 0.0005, 0.001, 0.005, 0.01, 0.1],\n",
    "          }\n",
    "clf = GridSearchCV(SVC(kernel='rbf', class_weight='balanced',probability=True), param_grid)\n",
    "clf = clf.fit(X_train_pca, y_train)\n",
    "print(\"Best estimator found by grid search:\")\n",
    "print(clf.best_estimator_)"
   ]
  },
  {
   "cell_type": "code",
   "execution_count": 10,
   "id": "efa07740",
   "metadata": {},
   "outputs": [
    {
     "name": "stdout",
     "output_type": "stream",
     "text": [
      "GridSearchCV(estimator=SVC(class_weight='balanced', probability=True),\n",
      "             param_grid={'C': [1000.0, 5000.0, 10000.0, 50000.0, 100000.0],\n",
      "                         'gamma': [0.0001, 0.0005, 0.001, 0.005, 0.01, 0.1]})\n"
     ]
    }
   ],
   "source": [
    "print(clf)"
   ]
  },
  {
   "cell_type": "code",
   "execution_count": 11,
   "id": "52e7bba6",
   "metadata": {},
   "outputs": [
    {
     "data": {
      "text/plain": [
       "['SVM_Classifier.pkl']"
      ]
     },
     "execution_count": 11,
     "metadata": {},
     "output_type": "execute_result"
    }
   ],
   "source": [
    "# Save best SVM classifier weights for use at prediction\n",
    "\n",
    "import joblib\n",
    "joblib.dump(clf.best_estimator_, 'SVM_Classifier.pkl', compress = 1) # Only best parameters"
   ]
  },
  {
   "cell_type": "code",
   "execution_count": 12,
   "id": "a317c3d3",
   "metadata": {},
   "outputs": [
    {
     "data": {
      "text/plain": [
       "array([1, 0, 0, 4, 0, 1, 1, 0, 4, 4, 4, 0, 2, 0, 2, 1, 2, 1, 2, 2, 0, 4,\n",
       "       0, 1, 1, 4, 2, 1, 0, 0, 2, 2, 4, 0, 2, 1, 0])"
      ]
     },
     "execution_count": 12,
     "metadata": {},
     "output_type": "execute_result"
    }
   ],
   "source": [
    "y_pred = clf.predict(X_test_pca)\n",
    "y_pred"
   ]
  },
  {
   "cell_type": "code",
   "execution_count": 13,
   "id": "5478ca6b",
   "metadata": {},
   "outputs": [
    {
     "name": "stdout",
     "output_type": "stream",
     "text": [
      "              precision    recall  f1-score   support\n",
      "\n",
      "           0       0.67      1.00      0.80         8\n",
      "           1       1.00      1.00      1.00         9\n",
      "           2       1.00      0.82      0.90        11\n",
      "           4       1.00      0.78      0.88         9\n",
      "\n",
      "    accuracy                           0.89        37\n",
      "   macro avg       0.92      0.90      0.89        37\n",
      "weighted avg       0.93      0.89      0.90        37\n",
      "\n"
     ]
    }
   ],
   "source": [
    "print(classification_report(y_test, y_pred))"
   ]
  },
  {
   "cell_type": "code",
   "execution_count": null,
   "id": "0e0986b7",
   "metadata": {},
   "outputs": [],
   "source": []
  }
 ],
 "metadata": {
  "kernelspec": {
   "display_name": "Python 3 (ipykernel)",
   "language": "python",
   "name": "python3"
  },
  "language_info": {
   "codemirror_mode": {
    "name": "ipython",
    "version": 3
   },
   "file_extension": ".py",
   "mimetype": "text/x-python",
   "name": "python",
   "nbconvert_exporter": "python",
   "pygments_lexer": "ipython3",
   "version": "3.8.12"
  }
 },
 "nbformat": 4,
 "nbformat_minor": 5
}
